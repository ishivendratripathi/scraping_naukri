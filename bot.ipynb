{
 "cells": [
  {
   "cell_type": "code",
   "execution_count": 2,
   "metadata": {},
   "outputs": [
    {
     "name": "stdout",
     "output_type": "stream",
     "text": [
      "zsh:1: /Users/shivendratripathi/Desktop/Helium_learning/.venv/bin/pip3: bad interpreter: /Users/shivendratripathi/Desktop/selenium_learning/.venv/bin/python: no such file or directory\n",
      "zsh:1: /Users/shivendratripathi/Desktop/Helium_learning/.venv/bin/pip3: bad interpreter: /Users/shivendratripathi/Desktop/selenium_learning/.venv/bin/python: no such file or directory\n",
      "Defaulting to user installation because normal site-packages is not writeable\n",
      "Requirement already satisfied: selenium in /Users/shivendratripathi/Library/Python/3.9/lib/python/site-packages (4.17.2)\n",
      "Requirement already satisfied: urllib3<3,>=1.26 in /Users/shivendratripathi/Library/Python/3.9/lib/python/site-packages (from urllib3[socks]<3,>=1.26->selenium) (2.1.0)\n",
      "Requirement already satisfied: trio~=0.17 in /Users/shivendratripathi/Library/Python/3.9/lib/python/site-packages (from selenium) (0.24.0)\n",
      "Requirement already satisfied: trio-websocket~=0.9 in /Users/shivendratripathi/Library/Python/3.9/lib/python/site-packages (from selenium) (0.11.1)\n",
      "Requirement already satisfied: certifi>=2021.10.8 in /Users/shivendratripathi/Library/Python/3.9/lib/python/site-packages (from selenium) (2023.11.17)\n",
      "Requirement already satisfied: typing_extensions>=4.9.0 in /Users/shivendratripathi/Library/Python/3.9/lib/python/site-packages (from selenium) (4.9.0)\n",
      "Requirement already satisfied: attrs>=20.1.0 in /Users/shivendratripathi/Library/Python/3.9/lib/python/site-packages (from trio~=0.17->selenium) (23.2.0)\n",
      "Requirement already satisfied: sortedcontainers in /Users/shivendratripathi/Library/Python/3.9/lib/python/site-packages (from trio~=0.17->selenium) (2.4.0)\n",
      "Requirement already satisfied: idna in /Users/shivendratripathi/Library/Python/3.9/lib/python/site-packages (from trio~=0.17->selenium) (3.6)\n",
      "Requirement already satisfied: outcome in /Users/shivendratripathi/Library/Python/3.9/lib/python/site-packages (from trio~=0.17->selenium) (1.3.0.post0)\n",
      "Requirement already satisfied: sniffio>=1.3.0 in /Users/shivendratripathi/Library/Python/3.9/lib/python/site-packages (from trio~=0.17->selenium) (1.3.0)\n",
      "Requirement already satisfied: exceptiongroup in /Users/shivendratripathi/Library/Python/3.9/lib/python/site-packages (from trio~=0.17->selenium) (1.2.0)\n",
      "Requirement already satisfied: wsproto>=0.14 in /Users/shivendratripathi/Library/Python/3.9/lib/python/site-packages (from trio-websocket~=0.9->selenium) (1.2.0)\n",
      "Requirement already satisfied: pysocks!=1.5.7,<2.0,>=1.5.6 in /Users/shivendratripathi/Library/Python/3.9/lib/python/site-packages (from urllib3[socks]<3,>=1.26->selenium) (1.7.1)\n",
      "Requirement already satisfied: h11<1,>=0.9.0 in /Users/shivendratripathi/Library/Python/3.9/lib/python/site-packages (from wsproto>=0.14->trio-websocket~=0.9->selenium) (0.14.0)\n",
      "zsh:1: /Users/shivendratripathi/Desktop/Helium_learning/.venv/bin/pip3: bad interpreter: /Users/shivendratripathi/Desktop/selenium_learning/.venv/bin/python: no such file or directory\n",
      "Defaulting to user installation because normal site-packages is not writeable\n",
      "Requirement already satisfied: pandas in /Users/shivendratripathi/Library/Python/3.9/lib/python/site-packages (2.2.1)\n",
      "Requirement already satisfied: numpy<2,>=1.22.4 in /Users/shivendratripathi/Library/Python/3.9/lib/python/site-packages (from pandas) (1.26.3)\n",
      "Requirement already satisfied: python-dateutil>=2.8.2 in /Users/shivendratripathi/Library/Python/3.9/lib/python/site-packages (from pandas) (2.8.2)\n",
      "Requirement already satisfied: pytz>=2020.1 in /Users/shivendratripathi/Library/Python/3.9/lib/python/site-packages (from pandas) (2024.1)\n",
      "Requirement already satisfied: tzdata>=2022.7 in /Users/shivendratripathi/Library/Python/3.9/lib/python/site-packages (from pandas) (2024.1)\n",
      "Requirement already satisfied: six>=1.5 in /Library/Developer/CommandLineTools/Library/Frameworks/Python3.framework/Versions/3.9/lib/python3.9/site-packages (from python-dateutil>=2.8.2->pandas) (1.15.0)\n"
     ]
    },
    {
     "name": "stderr",
     "output_type": "stream",
     "text": [
      "/Users/shivendratripathi/Desktop/Helium_learning/.venv/lib/python3.9/site-packages/urllib3/__init__.py:35: NotOpenSSLWarning: urllib3 v2 only supports OpenSSL 1.1.1+, currently the 'ssl' module is compiled with 'LibreSSL 2.8.3'. See: https://github.com/urllib3/urllib3/issues/3020\n",
      "  warnings.warn(\n"
     ]
    },
    {
     "ename": "ModuleNotFoundError",
     "evalue": "No module named 'pandas'",
     "output_type": "error",
     "traceback": [
      "\u001b[0;31m---------------------------------------------------------------------------\u001b[0m",
      "\u001b[0;31mModuleNotFoundError\u001b[0m                       Traceback (most recent call last)",
      "Cell \u001b[0;32mIn[2], line 10\u001b[0m\n\u001b[1;32m      8\u001b[0m \u001b[39mfrom\u001b[39;00m \u001b[39mselenium\u001b[39;00m\u001b[39m.\u001b[39;00m\u001b[39mwebdriver\u001b[39;00m\u001b[39m.\u001b[39;00m\u001b[39mcommon\u001b[39;00m\u001b[39m.\u001b[39;00m\u001b[39mby\u001b[39;00m \u001b[39mimport\u001b[39;00m By\n\u001b[1;32m      9\u001b[0m \u001b[39mimport\u001b[39;00m \u001b[39mtime\u001b[39;00m\n\u001b[0;32m---> 10\u001b[0m \u001b[39mimport\u001b[39;00m \u001b[39mpandas\u001b[39;00m \u001b[39mas\u001b[39;00m \u001b[39mpd\u001b[39;00m\n",
      "\u001b[0;31mModuleNotFoundError\u001b[0m: No module named 'pandas'"
     ]
    }
   ],
   "source": []
  },
  {
   "cell_type": "code",
   "execution_count": null,
   "metadata": {},
   "outputs": [],
   "source": []
  },
  {
   "cell_type": "markdown",
   "metadata": {},
   "source": [
    "# from here i change my self"
   ]
  },
  {
   "cell_type": "code",
   "execution_count": 3,
   "metadata": {},
   "outputs": [],
   "source": [
    "from selenium import webdriver\n",
    "from selenium.webdriver.common.by import By\n",
    "#import implicit wait \n",
    "from selenium.webdriver.support.ui import WebDriverWait\n",
    "# common expected conditions\n",
    "from selenium.webdriver.support import expected_conditions as EC"
   ]
  },
  {
   "cell_type": "code",
   "execution_count": 6,
   "metadata": {
    "vscode": {
     "languageId": "coffeescript"
    }
   },
   "outputs": [
    {
     "name": "stdout",
     "output_type": "stream",
     "text": [
      "Num of elements found: 20\n"
     ]
    }
   ],
   "source": [
    "options = webdriver.ChromeOptions()\n",
    "driver = webdriver.Chrome(options=options)\n",
    "wait = WebDriverWait(driver, 10)\n",
    "data = []\n",
    "import json\n",
    "url = 'https://www.naukri.com/software-developer-jobs-in-remote?k=software%20developer&l=remote'\n",
    "driver.get(url)\n",
    "job_card_xpath = \"//div[@class='srp-jobtuple-wrapper']\"\n",
    "job_cards = wait.until(EC.presence_of_all_elements_located((By.XPATH, job_card_xpath)))\n",
    "print('Num of elements found:', len(job_cards))\n",
    "for card in job_cards:\n",
    "    title_xpath = \".//a[@class='title ']\"\n",
    "    job_url = card.find_element(By.XPATH, title_xpath).get_attribute('href')\n",
    "    # print('Job URL:', job_url)\n",
    "    # open a new tab\n",
    "    driver.execute_script(\"window.open('');\")\n",
    "    # switch to the new window\n",
    "    driver.switch_to.window(driver.window_handles[1])\n",
    "    driver.get(job_url)\n",
    "    title_xp = \".//h1[@title]\"\n",
    "    title = wait.until(EC.presence_of_element_located((By.XPATH, title_xp))).text\n",
    "    job_desc_xp = \".//section/div[@class='']\"\n",
    "    job_desc = wait.until(EC.presence_of_element_located((By.XPATH, job_desc_xp))).text\n",
    "    key_skills_xp = \".//section/div[@class='']/following-sibling::div/div/following-sibling::div\"\n",
    "    key_skills = wait.until(EC.presence_of_element_located((By.XPATH, key_skills_xp))).text\n",
    "    print('Title:', title)\n",
    "    print('Job Description:', job_desc)\n",
    "    print('Key Skills:', key_skills)\n",
    "    print('---')\n",
    "    # close the tab and switch back to the main window\n",
    "    driver.close()\n",
    "    driver.switch_to.window(driver.window_handles[0])\n",
    "    data.append({\n",
    "        'Title': title,\n",
    "        'Job Description': job_desc,\n",
    "        'Key Skills': key_skills\n",
    "    })\n",
    "\n",
    "\n",
    "with open('naukri_jobs.json', 'w') as f:\n",
    "    json.dump(data, f, indent=4)\n",
    "\n",
    "driver.quit() "
   ]
  }
 ],
 "metadata": {
  "kernelspec": {
   "display_name": "Python 3",
   "language": "python",
   "name": "python3"
  },
  "language_info": {
   "codemirror_mode": {
    "name": "ipython",
    "version": 3
   },
   "file_extension": ".py",
   "mimetype": "text/x-python",
   "name": "python",
   "nbconvert_exporter": "python",
   "pygments_lexer": "ipython3",
   "version": "3.9.6"
  },
  "orig_nbformat": 4
 },
 "nbformat": 4,
 "nbformat_minor": 2
}
